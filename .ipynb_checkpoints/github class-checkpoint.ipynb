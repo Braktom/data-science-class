{
 "cells": [
  {
   "cell_type": "code",
   "execution_count": 1,
   "id": "930ced33",
   "metadata": {},
   "outputs": [
    {
     "name": "stdout",
     "output_type": "stream",
     "text": [
      "hello world!\n"
     ]
    }
   ],
   "source": [
    "print(\"hello world!\")"
   ]
  },
  {
   "cell_type": "code",
   "execution_count": 2,
   "id": "b218809b",
   "metadata": {},
   "outputs": [
    {
     "name": "stdout",
     "output_type": "stream",
     "text": [
      "Excellent Barakat\n"
     ]
    }
   ],
   "source": [
    "print(\"Excellent Barakat\")"
   ]
  },
  {
   "cell_type": "code",
   "execution_count": 1,
   "id": "c40a72d4",
   "metadata": {},
   "outputs": [
    {
     "name": "stdout",
     "output_type": "stream",
     "text": [
      "Whatsup\n"
     ]
    }
   ],
   "source": [
    "print(\"Whatsup\")"
   ]
  },
  {
   "cell_type": "markdown",
   "id": "f1d2e597",
   "metadata": {},
   "source": [
    "#HELLO\n",
    "-POINT\n",
    "-POINT2"
   ]
  },
  {
   "cell_type": "markdown",
   "id": "83317191",
   "metadata": {},
   "source": [
    "# HELLO\n",
    "-Point 1\n",
    "-Point 2"
   ]
  },
  {
   "cell_type": "markdown",
   "id": "c9a7300e",
   "metadata": {},
   "source": [
    "# Hello\n",
    "- point 1\n",
    "- point 2\n"
   ]
  },
  {
   "cell_type": "markdown",
   "id": "2b5201a3",
   "metadata": {},
   "source": [
    "# Hello\n",
    "- point 1\n",
    "- point 2"
   ]
  },
  {
   "cell_type": "code",
   "execution_count": 1,
   "id": "b675222d",
   "metadata": {},
   "outputs": [
    {
     "name": "stdout",
     "output_type": "stream",
     "text": [
      "hi\n"
     ]
    }
   ],
   "source": [
    "print(\"hi\")"
   ]
  },
  {
   "cell_type": "code",
   "execution_count": null,
   "id": "e1f66442",
   "metadata": {},
   "outputs": [],
   "source": []
  }
 ],
 "metadata": {
  "kernelspec": {
   "display_name": "Python 3 (ipykernel)",
   "language": "python",
   "name": "python3"
  },
  "language_info": {
   "codemirror_mode": {
    "name": "ipython",
    "version": 3
   },
   "file_extension": ".py",
   "mimetype": "text/x-python",
   "name": "python",
   "nbconvert_exporter": "python",
   "pygments_lexer": "ipython3",
   "version": "3.9.12"
  }
 },
 "nbformat": 4,
 "nbformat_minor": 5
}
